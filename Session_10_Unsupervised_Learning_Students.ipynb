{
  "nbformat": 4,
  "nbformat_minor": 0,
  "metadata": {
    "colab": {
      "provenance": []
    },
    "kernelspec": {
      "name": "python3",
      "display_name": "Python 3"
    },
    "language_info": {
      "name": "python"
    }
  },
  "cells": [
    {
      "cell_type": "markdown",
      "source": [
        "# Task: Can you categorize the players into distinct groups?"
      ],
      "metadata": {
        "id": "TCn7lq3B1nIy"
      }
    },
    {
      "cell_type": "code",
      "execution_count": null,
      "metadata": {
        "id": "sahcUWLtBajj"
      },
      "outputs": [],
      "source": [
        "import pandas as pd\n",
        "import numpy as np\n",
        "import matplotlib.pyplot as plt\n",
        "import seaborn as sns\n"
      ]
    },
    {
      "cell_type": "markdown",
      "source": [
        "## Load in the Dataset"
      ],
      "metadata": {
        "id": "KtyR4ZXFvfpU"
      }
    },
    {
      "cell_type": "code",
      "source": [
        "# let's get more features - let's normalize the features per 90 mins\n",
        "!wget -O player_stats_season.xlsx https://www.dropbox.com/scl/fi/69dy5w4jxlraxb5qr691g/player_stats_season.xlsx?rlkey=jjdn12nwslh24v57ba4gw5ooo&dl=0\n",
        "player_stats_season_df = pd.read_excel(\"player_stats_season.xlsx\")\n"
      ],
      "metadata": {
        "colab": {
          "base_uri": "https://localhost:8080/"
        },
        "id": "so_Cl5NOF8AJ",
        "outputId": "d140dd47-f7f9-42df-9e7e-118ad04162b9"
      },
      "execution_count": null,
      "outputs": [
        {
          "output_type": "stream",
          "name": "stdout",
          "text": [
            "--2025-08-06 23:36:19--  https://www.dropbox.com/scl/fi/69dy5w4jxlraxb5qr691g/player_stats_season.xlsx?rlkey=jjdn12nwslh24v57ba4gw5ooo\n",
            "Resolving www.dropbox.com (www.dropbox.com)... 162.125.6.18, 2620:100:601c:18::a27d:612\n",
            "Connecting to www.dropbox.com (www.dropbox.com)|162.125.6.18|:443... connected.\n",
            "HTTP request sent, awaiting response... 302 Found\n",
            "Location: https://uc9245162d6b50e771548b330632.dl.dropboxusercontent.com/cd/0/inline/Cu4CuO8M4C1N2G3SW-00SWOvW5QLPqZT0b9AlYz0NXnOXfMSJp6VURbWj-1B7IP0rJNLWEjIXfu092nUwH3eaDC7YqyvoPJqVjBcRVqhlzi6pTjYXCuif99nveOpGjOKVJ0/file# [following]\n",
            "--2025-08-06 23:36:19--  https://uc9245162d6b50e771548b330632.dl.dropboxusercontent.com/cd/0/inline/Cu4CuO8M4C1N2G3SW-00SWOvW5QLPqZT0b9AlYz0NXnOXfMSJp6VURbWj-1B7IP0rJNLWEjIXfu092nUwH3eaDC7YqyvoPJqVjBcRVqhlzi6pTjYXCuif99nveOpGjOKVJ0/file\n",
            "Resolving uc9245162d6b50e771548b330632.dl.dropboxusercontent.com (uc9245162d6b50e771548b330632.dl.dropboxusercontent.com)... 162.125.4.15, 2620:100:601c:15::a27d:60f\n",
            "Connecting to uc9245162d6b50e771548b330632.dl.dropboxusercontent.com (uc9245162d6b50e771548b330632.dl.dropboxusercontent.com)|162.125.4.15|:443... connected.\n",
            "HTTP request sent, awaiting response... 302 Found\n",
            "Location: /cd/0/inline2/Cu5QxbEs6N0qP1Tx2N1lhjcaD6bFD3385bkwIry3tZMnJGEhk3w6dvA2TXmKv5flI_qInOyNLSOA1z4AICm6mxOSnrIgd5zpr7QztinWXxk4FU_ZZs49V1e5Rttmt1ig_PpMKCXTeUI_gCTOFLh9wLyNhrCg5Qo4EFV0AA81wVtvpuu6MSTAsCLYWEO3ZHeWqVUobremO22rGQRwcLwi62jt0urxgl2nfgNPpjt_xdSlyGSSp9hFuozmOzgZL8JmJuS-aivkM9TraEOB1iibW8ATKYNvM7AkRNGwgnMTghO38dOUHnj-l9ogkQzXffdzpeg2t9p_33CmRvy30jZs34R85KLZMqSvvx6U9oRunu6gJw/file [following]\n",
            "--2025-08-06 23:36:20--  https://uc9245162d6b50e771548b330632.dl.dropboxusercontent.com/cd/0/inline2/Cu5QxbEs6N0qP1Tx2N1lhjcaD6bFD3385bkwIry3tZMnJGEhk3w6dvA2TXmKv5flI_qInOyNLSOA1z4AICm6mxOSnrIgd5zpr7QztinWXxk4FU_ZZs49V1e5Rttmt1ig_PpMKCXTeUI_gCTOFLh9wLyNhrCg5Qo4EFV0AA81wVtvpuu6MSTAsCLYWEO3ZHeWqVUobremO22rGQRwcLwi62jt0urxgl2nfgNPpjt_xdSlyGSSp9hFuozmOzgZL8JmJuS-aivkM9TraEOB1iibW8ATKYNvM7AkRNGwgnMTghO38dOUHnj-l9ogkQzXffdzpeg2t9p_33CmRvy30jZs34R85KLZMqSvvx6U9oRunu6gJw/file\n",
            "Reusing existing connection to uc9245162d6b50e771548b330632.dl.dropboxusercontent.com:443.\n",
            "HTTP request sent, awaiting response... 200 OK\n",
            "Length: 5485694 (5.2M) [application/vnd.openxmlformats-officedocument.spreadsheetml.sheet]\n",
            "Saving to: ‘player_stats_season.xlsx’\n",
            "\n",
            "player_stats_season 100%[===================>]   5.23M  15.0MB/s    in 0.3s    \n",
            "\n",
            "2025-08-06 23:36:20 (15.0 MB/s) - ‘player_stats_season.xlsx’ saved [5485694/5485694]\n",
            "\n"
          ]
        }
      ]
    }
  ]
}